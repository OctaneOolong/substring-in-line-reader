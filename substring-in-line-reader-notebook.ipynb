{
 "cells": [
  {
   "cell_type": "code",
   "execution_count": 6,
   "metadata": {},
   "outputs": [
    {
     "name": "stdout",
     "output_type": "stream",
     "text": [
      "5\n",
      "['Epidata-homepage', 'statistics-observations', '20220403', '20220404', 'zettelkasten-template']\n",
      "10\n"
     ]
    }
   ],
   "source": [
    "import pathlib\n",
    "\n",
    "file_list = pathlib.Path.cwd().rglob(\"*.md\")\n",
    "\n",
    "no_tag_list = []\n",
    "\n",
    "substring = \"tag : 2022\"\n",
    "for idx, file in enumerate(file_list):\n",
    "\twith open(file, 'r+') as f:\n",
    "\t\tlines = f.readlines()\n",
    "\t\t# line to check line for all tags\n",
    "\t\tfor line in lines:\n",
    "\t\t\tif substring in line:\n",
    "\t\t\t\ttag_line = line[len(substring)+1:].split()\n",
    "\t\t\t#line to check if the line above contains any tags.\n",
    "\t\t\t\tif len(tag_line) == 0:\n",
    "\t\t\t\t\t#print(idx)\n",
    "\t\t\t\t\t#print(file.stem)\n",
    "\t\t\t\t\tno_tag_list.append(file.stem)\n",
    "\t\t\t# \t#print(idx, file, \" does not have any tags\")\n",
    "\n",
    "# need to exclude the \".trash\" folder\n",
    "\n",
    "\n",
    "print(len(no_tag_list))\n",
    "print(no_tag_list)\n",
    "\n",
    "print(len(substring))"
   ]
  }
 ],
 "metadata": {
  "interpreter": {
   "hash": "5c1312c1f1e3f1e9da1b7b205440abe1f5b68de140e2375bf66a2f2e277b5e56"
  },
  "kernelspec": {
   "display_name": "Python 3.8.8 ('base')",
   "language": "python",
   "name": "python3"
  },
  "language_info": {
   "codemirror_mode": {
    "name": "ipython",
    "version": 3
   },
   "file_extension": ".py",
   "mimetype": "text/x-python",
   "name": "python",
   "nbconvert_exporter": "python",
   "pygments_lexer": "ipython3",
   "version": "3.8.8"
  },
  "orig_nbformat": 4
 },
 "nbformat": 4,
 "nbformat_minor": 2
}
